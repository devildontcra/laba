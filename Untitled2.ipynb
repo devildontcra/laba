{
  "nbformat": 4,
  "nbformat_minor": 0,
  "metadata": {
    "colab": {
      "provenance": [],
      "authorship_tag": "ABX9TyNxl8DOQq1RHHclUcXmhkll",
      "include_colab_link": true
    },
    "kernelspec": {
      "name": "python3",
      "display_name": "Python 3"
    },
    "language_info": {
      "name": "python"
    }
  },
  "cells": [
    {
      "cell_type": "markdown",
      "metadata": {
        "id": "view-in-github",
        "colab_type": "text"
      },
      "source": [
        "<a href=\"https://colab.research.google.com/github/devildontcra/laba/blob/main/Untitled2.ipynb\" target=\"_parent\"><img src=\"https://colab.research.google.com/assets/colab-badge.svg\" alt=\"Open In Colab\"/></a>"
      ]
    },
    {
      "cell_type": "code",
      "execution_count": 15,
      "metadata": {
        "colab": {
          "base_uri": "https://localhost:8080/"
        },
        "id": "3SGTjory-M_6",
        "outputId": "c602e9f2-58f3-4fc4-8e9d-7c47ede3f477"
      },
      "outputs": [
        {
          "output_type": "stream",
          "name": "stdout",
          "text": [
            "Введите название товара \n",
            "морковь\n",
            "Введите название товара \n",
            "сыр\n",
            "Введите название товара \n",
            "\n",
            "Введите цену на товар морковь в магазине Ашан\n",
            "1\n",
            "Введите цену на товар морковь в магазине Карусель\n",
            "2\n",
            "Введите цену на товар морковь в магазине Хз\n",
            "3\n",
            "Введите цену на товар сыр в магазине Ашан\n",
            "1\n",
            "Введите цену на товар сыр в магазине Карусель\n",
            "2\n",
            "Введите цену на товар сыр в магазине Хз\n",
            "1\n",
            "стоимость корзины в магазине Ашан: 2\n",
            "стоимость корзины в магазине Карусель: 4\n",
            "стоимость корзины в магазине Хз: 4\n",
            "минимальная цена в магазине Ашан\n"
          ]
        }
      ],
      "source": [
        "goots = []\n",
        "shops = [\"Ашан\" , \"Карусель\" , \"Хз\"]\n",
        "posts = []\n",
        "isTrue = True\n",
        "while isTrue == True:\n",
        "   z = input(f\"Введите название товара \\n\")\n",
        "   if z != '':\n",
        "     goots.append(z)\n",
        "   else:\n",
        "    isTrue = False\n",
        "\n",
        "\n",
        "for goos in goots:\n",
        "  goots_posts = []\n",
        "  for shop in shops:\n",
        "    prise = int(input(f\"Введите цену на товар {goos} в магазине {shop}\\n\"))\n",
        "    goots_posts.append(prise)\n",
        "  posts.append(goots_posts)\n",
        "bascet = []\n",
        "for count , value in enumerate(shops):\n",
        "  total = 0\n",
        "  for idx , prodact in enumerate(goots):\n",
        "    total+= posts[idx][count]\n",
        "  print(f\"стоимость корзины в магазине {value}: {total}\")\n",
        "  bascet.append(total)\n",
        "min_dx = 0\n",
        "min_value = None\n",
        "for idx , value in enumerate(bascet):\n",
        "  if min_value == None  or value < min_value:\n",
        "    min_dx = idx\n",
        "    min_value = value\n",
        "print(f\"минимальная цена в магазине {shops[min_dx]}\")\n",
        "\n",
        "\n"
      ]
    },
    {
      "cell_type": "code",
      "source": [],
      "metadata": {
        "id": "w9ZGjGiTA2D4"
      },
      "execution_count": null,
      "outputs": []
    }
  ]
}